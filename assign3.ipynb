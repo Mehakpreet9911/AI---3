{
 "cells": [
  {
   "cell_type": "code",
   "execution_count": 5,
   "metadata": {},
   "outputs": [],
   "source": [
    "import numpy as np\n",
    "import pandas as pd\n",
    "import seaborn as sns #making statistical graphics in Python.\n",
    "import spacy #nlp\n",
    "import matplotlib.pyplot as plt\n",
    "from sklearn.model_selection import train_test_split\n",
    "from sklearn.linear_model import LinearRegression, LogisticRegression\n",
    "from sklearn.tree import DecisionTreeClassifier\n",
    "from sklearn.svm import SVC\n",
    "from sklearn.naive_bayes import MultinomialNB\n",
    "from sklearn.feature_extraction.text import TfidfVectorizer\n",
    "from sklearn.metrics import accuracy_score,mean_squared_error, r2_score, classification_report, confusion_matrix\n",
    "from sklearn import datasets\n",
    "from sklearn.preprocessing import StandardScaler\n",
    "from sklearn.pipeline import make_pipeline\n",
    "from gensim.models import Word2Vec\n",
    "from sklearn.ensemble import RandomForestClassifier\n",
    "from gensim.models import KeyedVectors\n",
    "from nltk.stem import WordNetLemmatizer\n",
    "from tensorflow.keras.datasets import imdb\n",
    "from tensorflow.keras.preprocessing.sequence import pad_sequences\n",
    "from tensorflow.keras.models import Sequential\n",
    "from tensorflow.keras.layers import Embedding, LSTM, Dense\n",
    "from sklearn.feature_extraction.text import TfidfVectorizer\n",
    "from gensim.models import Word2Vec"
   ]
  },
  {
   "cell_type": "code",
   "execution_count": 6,
   "metadata": {},
   "outputs": [],
   "source": [
    "wine = datasets.load_wine()\n",
    "wine_df = pd.DataFrame(data=np.c_[wine['data'], wine['target']], columns=wine['feature_names'] + ['target'])"
   ]
  },
  {
   "cell_type": "code",
   "execution_count": 8,
   "metadata": {},
   "outputs": [
    {
     "name": "stdout",
     "output_type": "stream",
     "text": [
      "   alcohol  malic_acid   ash  alcalinity_of_ash  magnesium  total_phenols  \\\n",
      "0    14.23        1.71  2.43               15.6      127.0           2.80   \n",
      "1    13.20        1.78  2.14               11.2      100.0           2.65   \n",
      "2    13.16        2.36  2.67               18.6      101.0           2.80   \n",
      "3    14.37        1.95  2.50               16.8      113.0           3.85   \n",
      "4    13.24        2.59  2.87               21.0      118.0           2.80   \n",
      "\n",
      "   flavanoids  nonflavanoid_phenols  proanthocyanins  color_intensity   hue  \\\n",
      "0        3.06                  0.28             2.29             5.64  1.04   \n",
      "1        2.76                  0.26             1.28             4.38  1.05   \n",
      "2        3.24                  0.30             2.81             5.68  1.03   \n",
      "3        3.49                  0.24             2.18             7.80  0.86   \n",
      "4        2.69                  0.39             1.82             4.32  1.04   \n",
      "\n",
      "   od280/od315_of_diluted_wines  proline  target  \n",
      "0                          3.92   1065.0     0.0  \n",
      "1                          3.40   1050.0     0.0  \n",
      "2                          3.17   1185.0     0.0  \n",
      "3                          3.45   1480.0     0.0  \n",
      "4                          2.93    735.0     0.0  \n"
     ]
    }
   ],
   "source": [
    "print(wine_df.head())"
   ]
  },
  {
   "cell_type": "markdown",
   "metadata": {},
   "source": [
    "Spliting Dataset -- feature-target & train-test -- split"
   ]
  },
  {
   "cell_type": "code",
   "execution_count": 9,
   "metadata": {},
   "outputs": [],
   "source": [
    "X = wine_df.drop('target', axis=1)\n",
    "y = wine_df['target']\n",
    "\n",
    "     \n",
    "\n",
    "# Split the data into training and testing sets\n",
    "X_train, X_test, y_train, y_test = train_test_split(X, y, test_size=0.2, random_state=42)"
   ]
  },
  {
   "cell_type": "markdown",
   "metadata": {},
   "source": [
    "Appying algorithms"
   ]
  },
  {
   "cell_type": "markdown",
   "metadata": {},
   "source": [
    "Linear Regression\n",
    " Linear regression analysis is used to predict the value of a variable based on the value of another variable. The variable you want to predict is called the dependent variable. The variable you are using to predict the other variable's value is called the independent variable."
   ]
  },
  {
   "cell_type": "code",
   "execution_count": 10,
   "metadata": {},
   "outputs": [
    {
     "name": "stdout",
     "output_type": "stream",
     "text": [
      "Linear Regression:\n",
      "Accuracy: 0.8825140263270388\n",
      "Mean Squared Error: 0.06853348464256072\n",
      "R-squared: 0.8825140263270388\n"
     ]
    }
   ],
   "source": [
    "print(\"Linear Regression:\")\n",
    "linear_reg_model = LinearRegression()\n",
    "linear_reg_model.fit(X_train, y_train)\n",
    "y_predictions = linear_reg_model.predict(X_test)\n",
    "\n",
    "# Evaluate the performance\n",
    "linear_reg_accuracy = linear_reg_model.score(X_test, y_test)\n",
    "mse = mean_squared_error(y_test, y_predictions)\n",
    "r2 = r2_score(y_test, y_predictions)\n",
    "\n",
    "print(\"Accuracy:\", linear_reg_accuracy)\n",
    "print(\"Mean Squared Error:\", mse)\n",
    "print(\"R-squared:\", r2)"
   ]
  },
  {
   "cell_type": "markdown",
   "metadata": {},
   "source": [
    "Logistic Regression\n",
    "predict the probability that an instance of belonging to a given class.  it takes the output of the linear regression function as input and uses a sigmoid function to estimate the probability for the given class."
   ]
  },
  {
   "cell_type": "code",
   "execution_count": 11,
   "metadata": {},
   "outputs": [
    {
     "name": "stdout",
     "output_type": "stream",
     "text": [
      "\n",
      "Logistic Regression:\n",
      "Accuracy: 100.0\n",
      "\n",
      "Classification Report:\n",
      "               precision    recall  f1-score   support\n",
      "\n",
      "         0.0       1.00      1.00      1.00        14\n",
      "         1.0       1.00      1.00      1.00        14\n",
      "         2.0       1.00      1.00      1.00         8\n",
      "\n",
      "    accuracy                           1.00        36\n",
      "   macro avg       1.00      1.00      1.00        36\n",
      "weighted avg       1.00      1.00      1.00        36\n",
      "\n",
      "\n",
      "Confusion Matrix:\n",
      " [[14  0  0]\n",
      " [ 0 14  0]\n",
      " [ 0  0  8]]\n"
     ]
    },
    {
     "data": {
      "image/png": "[encoded data removed]",
      "text/plain": [
       "<Figure size 800x600 with 2 Axes>"
      ]
     },
     "metadata": {},
     "output_type": "display_data"
    }
   ],
   "source": [
    "print(\"\\nLogistic Regression:\")\n",
    "logistic_reg_model = LogisticRegression(max_iter=10000)\n",
    "logistic_reg_model.fit(X_train, y_train)\n",
    "y_predictions = logistic_reg_model.predict(X_test)\n",
    "\n",
    "# Evaluate the performance\n",
    "accuracy = accuracy_score(y_test, y_predictions)*100\n",
    "classification_rep = classification_report(y_test, y_predictions)\n",
    "confusion_mat = confusion_matrix(y_test, y_predictions)\n",
    "\n",
    "print(\"Accuracy:\", accuracy)\n",
    "print(\"\\nClassification Report:\\n\", classification_rep)\n",
    "print(\"\\nConfusion Matrix:\\n\", confusion_mat)\n",
    "\n",
    "# Plot confusion matrix\n",
    "plt.figure(figsize=(8, 6))\n",
    "sns.heatmap(confusion_mat, annot=True, fmt='d', cmap='Purples', xticklabels=wine.target_names, yticklabels=wine.target_names)\n",
    "plt.xlabel('Predicted')\n",
    "plt.ylabel('Actual')\n",
    "plt.title('Confusion Matrix for Logistic Regression')\n",
    "plt.show()"
   ]
  },
  {
   "cell_type": "markdown",
   "metadata": {},
   "source": [
    "Decision Tree\n"
   ]
  },
  {
   "cell_type": "code",
   "execution_count": 12,
   "metadata": {},
   "outputs": [
    {
     "name": "stdout",
     "output_type": "stream",
     "text": [
      "\n",
      "Decision Tree:\n",
      "Accuracy: 94.44444444444444\n",
      "\n",
      "Classification Report:\n",
      "               precision    recall  f1-score   support\n",
      "\n",
      "         0.0       1.00      0.93      0.96        14\n",
      "         1.0       0.88      1.00      0.93        14\n",
      "         2.0       1.00      0.88      0.93         8\n",
      "\n",
      "    accuracy                           0.94        36\n",
      "   macro avg       0.96      0.93      0.94        36\n",
      "weighted avg       0.95      0.94      0.94        36\n",
      "\n",
      "\n",
      "Confusion Matrix:\n",
      " [[13  1  0]\n",
      " [ 0 14  0]\n",
      " [ 0  1  7]]\n"
     ]
    },
    {
     "data": {
      "image/png": "[encoded data removed]",
      "text/plain": [
       "<Figure size 800x600 with 2 Axes>"
      ]
     },
     "metadata": {},
     "output_type": "display_data"
    }
   ],
   "source": [
    "print(\"\\nDecision Tree:\")\n",
    "decision_tree_model = DecisionTreeClassifier()\n",
    "decision_tree_model.fit(X_train, y_train)\n",
    "y_predictions = decision_tree_model.predict(X_test)\n",
    "\n",
    "# Evaluate the performance\n",
    "accuracy = accuracy_score(y_test, y_predictions)*100\n",
    "classification_rep = classification_report(y_test, y_predictions)\n",
    "confusion_mat = confusion_matrix(y_test, y_predictions)\n",
    "\n",
    "print(\"Accuracy:\", accuracy)\n",
    "print(\"\\nClassification Report:\\n\", classification_rep)\n",
    "print(\"\\nConfusion Matrix:\\n\", confusion_mat)\n",
    "\n",
    "# Plot confusion matrix\n",
    "plt.figure(figsize=(8, 6))\n",
    "sns.heatmap(confusion_mat, annot=True, fmt='d', cmap='Blues', xticklabels=wine.target_names, yticklabels=wine.target_names)\n",
    "plt.xlabel('Predicted')\n",
    "plt.ylabel('Actual')\n",
    "plt.title('Confusion Matrix for Decision Tree')\n",
    "plt.show()"
   ]
  },
  {
   "cell_type": "markdown",
   "metadata": {},
   "source": [
    "SVM\n",
    "The main objective of the SVM algorithm is to find the optimal hyperplane in an N-dimensional space that can separate the data points in different classes in the feature space. The hyperplane tries that the margin between the closest points of different classes should be as maximum as possible. "
   ]
  },
  {
   "cell_type": "code",
   "execution_count": 13,
   "metadata": {},
   "outputs": [
    {
     "name": "stdout",
     "output_type": "stream",
     "text": [
      "\n",
      "SVM:\n",
      "Accuracy: 80.55555555555556\n",
      "\n",
      "Classification Report:\n",
      "               precision    recall  f1-score   support\n",
      "\n",
      "         0.0       1.00      1.00      1.00        14\n",
      "         1.0       0.73      0.79      0.76        14\n",
      "         2.0       0.57      0.50      0.53         8\n",
      "\n",
      "    accuracy                           0.81        36\n",
      "   macro avg       0.77      0.76      0.76        36\n",
      "weighted avg       0.80      0.81      0.80        36\n",
      "\n",
      "\n",
      "Confusion Matrix:\n",
      " [[14  0  0]\n",
      " [ 0 11  3]\n",
      " [ 0  4  4]]\n"
     ]
    },
    {
     "data": {
      "image/png": "[encoded data removed]",
      "text/plain": [
       "<Figure size 800x600 with 2 Axes>"
      ]
     },
     "metadata": {},
     "output_type": "display_data"
    }
   ],
   "source": [
    "print(\"\\nSVM:\")\n",
    "svm_model = SVC()\n",
    "svm_model.fit(X_train, y_train)\n",
    "y_predictions = svm_model.predict(X_test)\n",
    "\n",
    "# Evaluate the performance\n",
    "accuracy = accuracy_score(y_test, y_predictions)*100\n",
    "classification_rep = classification_report(y_test, y_predictions)\n",
    "confusion_mat = confusion_matrix(y_test, y_predictions)\n",
    "\n",
    "print(\"Accuracy:\", accuracy)\n",
    "print(\"\\nClassification Report:\\n\", classification_rep)\n",
    "print(\"\\nConfusion Matrix:\\n\", confusion_mat)\n",
    "\n",
    "# Plot confusion matrix\n",
    "plt.figure(figsize=(8, 6))\n",
    "sns.heatmap(confusion_mat, annot=True, fmt='d', cmap='Reds', xticklabels=wine.target_names, yticklabels=wine.target_names)\n",
    "plt.xlabel('Predicted')\n",
    "plt.ylabel('Actual')\n",
    "plt.title('Confusion Matrix for SVM')\n",
    "plt.show()"
   ]
  },
  {
   "cell_type": "markdown",
   "metadata": {},
   "source": [
    "Naive-Bayes Algorithm"
   ]
  },
  {
   "cell_type": "code",
   "execution_count": 14,
   "metadata": {},
   "outputs": [
    {
     "name": "stdout",
     "output_type": "stream",
     "text": [
      "\n",
      "Naive-Bayes Algorithm:\n",
      "Accuracy: 88.88888888888889\n",
      "\n",
      "Classification Report:\n",
      "               precision    recall  f1-score   support\n",
      "\n",
      "         0.0       0.88      1.00      0.93        14\n",
      "         1.0       0.93      0.93      0.93        14\n",
      "         2.0       0.83      0.62      0.71         8\n",
      "\n",
      "    accuracy                           0.89        36\n",
      "   macro avg       0.88      0.85      0.86        36\n",
      "weighted avg       0.89      0.89      0.88        36\n",
      "\n",
      "\n",
      "Confusion Matrix:\n",
      " [[14  0  0]\n",
      " [ 0 13  1]\n",
      " [ 2  1  5]]\n"
     ]
    },
    {
     "data": {
      "image/png": "[encoded data removed]",
      "text/plain": [
       "<Figure size 800x600 with 2 Axes>"
      ]
     },
     "metadata": {},
     "output_type": "display_data"
    }
   ],
   "source": [
    "print(\"\\nNaive-Bayes Algorithm:\")\n",
    "nb_model = MultinomialNB()\n",
    "nb_model.fit(X_train, y_train)\n",
    "nb_predictions = nb_model.predict(X_test)\n",
    "\n",
    "# Evaluate the performance\n",
    "accuracy = accuracy_score(y_test, nb_predictions)*100\n",
    "classification_rep = classification_report(y_test,nb_predictions)\n",
    "confusion_mat = confusion_matrix(y_test,nb_predictions)\n",
    "\n",
    "print(\"Accuracy:\", accuracy)\n",
    "print(\"\\nClassification Report:\\n\", classification_rep)\n",
    "print(\"\\nConfusion Matrix:\\n\", confusion_mat)\n",
    "\n",
    "# Plot confusion matrix\n",
    "plt.figure(figsize=(8, 6))\n",
    "sns.heatmap(confusion_mat, annot=True, fmt='d', cmap='Greens', xticklabels=wine.target_names, yticklabels=wine.target_names)\n",
    "plt.xlabel('Predicted')\n",
    "plt.ylabel('Actual')\n",
    "plt.title('Confusion Matrix for Naive-Bayes Algorithm')\n",
    "plt.show()"
   ]
  },
  {
   "cell_type": "markdown",
   "metadata": {},
   "source": [
    "For text based algorithms"
   ]
  },
  {
   "cell_type": "code",
   "execution_count": 15,
   "metadata": {},
   "outputs": [
    {
     "name": "stdout",
     "output_type": "stream",
     "text": [
      "Downloading data from https://storage.googleapis.com/tensorflow/tf-keras-datasets/imdb.npz\n",
      "17464789/17464789 [==============================] - 4s 0us/step\n",
      "Downloading data from https://storage.googleapis.com/tensorflow/tf-keras-datasets/imdb_word_index.json\n",
      "1641221/1641221 [==============================] - 2s 1us/step\n"
     ]
    }
   ],
   "source": [
    "(x_train, y_train), (x_test, y_test) = imdb.load_data(num_words=10000)\n",
    "\n",
    "num_samples = 800\n",
    "x_train = x_train[:num_samples]\n",
    "y_train = y_train[:num_samples]\n",
    "x_test = x_test[:num_samples]\n",
    "y_test = y_test[:num_samples]\n",
    "\n",
    "\n",
    "# Convert sequences back to text\n",
    "def sequences_to_texts(sequences):\n",
    "    word_index = imdb.get_word_index()\n",
    "    reverse_word_index = dict([(value, key) for (key, value) in word_index.items()])\n",
    "    return ' '.join([reverse_word_index.get(i - 3, '?') for i in sequences])\n",
    "\n",
    "# Convert sequences to text\n",
    "x_train_text = [sequences_to_texts(seq) for seq in x_train]\n",
    "x_test_text = [sequences_to_texts(seq) for seq in x_test]"
   ]
  },
  {
   "cell_type": "code",
   "execution_count": 16,
   "metadata": {},
   "outputs": [],
   "source": [
    "y_train = y_train[:len(x_train_text)]\n",
    "\n",
    "# Split the data into training and validation sets\n",
    "x_train, x_val, y_train, y_val = train_test_split(x_train_text, y_train, test_size=0.2, stratify=y_train, random_state=42)"
   ]
  },
  {
   "cell_type": "markdown",
   "metadata": {},
   "source": [
    "TF-IDF"
   ]
  },
  {
   "cell_type": "code",
   "execution_count": 17,
   "metadata": {},
   "outputs": [
    {
     "name": "stdout",
     "output_type": "stream",
     "text": [
      "Validation Accuracy: 74.375\n",
      "Test Accuracy: 75.625\n"
     ]
    }
   ],
   "source": [
    "vectorizer = TfidfVectorizer(max_features=10000, ngram_range=(1, 2), stop_words='english')\n",
    "x_train_tfidf = vectorizer.fit_transform(x_train)\n",
    "x_val_tfidf = vectorizer.transform(x_val)\n",
    "x_test_tfidf = vectorizer.transform(x_test_text)\n",
    "\n",
    "# Logistic Regression (as an example)\n",
    "logistic_reg_model = LogisticRegression(max_iter=10000)\n",
    "logistic_reg_model.fit(x_train_tfidf, y_train)\n",
    "\n",
    "# Predictions\n",
    "y_val_pred = logistic_reg_model.predict(x_val_tfidf)\n",
    "y_test_pred = logistic_reg_model.predict(x_test_tfidf)\n",
    "\n",
    "# Evaluate the model\n",
    "val_accuracy = accuracy_score(y_val, y_val_pred)*100\n",
    "test_accuracy = accuracy_score(y_test, y_test_pred)*100\n",
    "\n",
    "print(\"Validation Accuracy:\", val_accuracy)\n",
    "print(\"Test Accuracy:\", test_accuracy)"
   ]
  },
  {
   "cell_type": "markdown",
   "metadata": {},
   "source": [
    "Word2Vec"
   ]
  },
  {
   "cell_type": "code",
   "execution_count": 18,
   "metadata": {},
   "outputs": [
    {
     "name": "stdout",
     "output_type": "stream",
     "text": [
      "Word2Vec Vector for the first training sample:\n",
      "[-0.07268322  0.25268802  0.26587042  0.09287518  0.21239528 -0.7850829\n",
      "  0.3421153   1.2695053  -0.43114775 -0.42154643 -0.12708566 -0.839757\n",
      " -0.05962669  0.3339929   0.30492502 -0.1690556   0.12395059 -0.4036287\n",
      "  0.00990703 -1.3255918   0.35484874  0.01886199  0.45223507 -0.24740112\n",
      "  0.05650634 -0.05738316 -0.51470935 -0.25580898 -0.4023479   0.157791\n",
      "  0.70376045  0.0735734   0.58322763 -0.67478245 -0.18155314  0.44942492\n",
      "  0.01288352 -0.45418915 -0.3603252  -0.829354    0.19876269 -0.6069353\n",
      " -0.39052778  0.18362181  0.36708516 -0.20465481 -0.41350055 -0.19189402\n",
      "  0.21224578  0.56967205  0.28251633 -0.47666496 -0.28955355 -0.06635001\n",
      " -0.14789546  0.01141435  0.40433115 -0.2301846  -0.4775096   0.21193397\n",
      "  0.13567951 -0.09689003  0.30521524 -0.10665972 -0.67545414  0.66454893\n",
      "  0.10919891  0.4693322  -0.9856679   0.7136199   0.12924546  0.4509865\n",
      "  0.6523599  -0.05772368  0.7705553  -0.03184076  0.19875383  0.09669997\n",
      " -0.3018561   0.20483766 -0.627693    0.05648093 -0.56497616  0.57256836\n",
      " -0.3528412  -0.42484048  0.31443283  0.4717669   0.69839096  0.17198022\n",
      "  0.67337775  0.2313783   0.28428155  0.11080763  0.8709618   0.43818545\n",
      "  0.08411065 -0.44936442  0.03071639 -0.08605696]\n",
      "Validation Accuracy: 0.46875\n",
      "Test Accuracy: 0.56375\n"
     ]
    }
   ],
   "source": [
    "tokenized_x_train = [text.split() for text in x_train]\n",
    "tokenized_x_val = [text.split() for text in x_val]\n",
    "tokenized_x_test = [text.split() for text in x_test_text]\n",
    "\n",
    "# Train model\n",
    "word2vec_model = Word2Vec(sentences=tokenized_x_train, vector_size=100, window=5, min_count=1, workers=4)\n",
    "\n",
    "# Transform each text sequence into the average Word2Vec vector\n",
    "def text_to_avg_vector(text, model):\n",
    "    words = text.split()\n",
    "    vectors = [model.wv[word] for word in words if word in model.wv]\n",
    "    if vectors:\n",
    "        return np.mean(vectors, axis=0)\n",
    "    else:\n",
    "        # If no word in the model, return a zero vector\n",
    "        return np.zeros(model.vector_size)\n",
    "\n",
    "# Create Word2Vec vectors for training, validation, and test sets\n",
    "x_train_w2v = np.array([text_to_avg_vector(text, word2vec_model) for text in x_train])\n",
    "x_val_w2v = np.array([text_to_avg_vector(text, word2vec_model) for text in x_val])\n",
    "x_test_w2v = np.array([text_to_avg_vector(text, word2vec_model) for text in x_test_text])\n",
    "\n",
    "print(\"Word2Vec Vector for the first training sample:\")\n",
    "print(x_train_w2v[0])\n",
    "\n",
    "# Train a Logistic Regression model\n",
    "logistic_reg_model = LogisticRegression(max_iter=10000)\n",
    "logistic_reg_model.fit(x_train_w2v, y_train)\n",
    "\n",
    "# Predictions\n",
    "y_val_pred = logistic_reg_model.predict(x_val_w2v)\n",
    "y_test_pred = logistic_reg_model.predict(x_test_w2v)\n",
    "\n",
    "# Evaluations\n",
    "val_accuracy = accuracy_score(y_val, y_val_pred)\n",
    "test_accuracy = accuracy_score(y_test, y_test_pred)\n",
    "\n",
    "print(\"Validation Accuracy:\", val_accuracy)\n",
    "print(\"Test Accuracy:\", test_accuracy)\n",
    "     "
   ]
  },
  {
   "cell_type": "markdown",
   "metadata": {},
   "source": [
    "Glove Algorithm"
   ]
  },
  {
   "cell_type": "code",
   "execution_count": 20,
   "metadata": {},
   "outputs": [
    {
     "ename": "OSError",
     "evalue": "[E050] Can't find model 'en_core_web_sm'. It doesn't seem to be a Python package or a valid path to a data directory.",
     "output_type": "error",
     "traceback": [
      "\u001b[1;31m---------------------------------------------------------------------------\u001b[0m",
      "\u001b[1;31mOSError\u001b[0m                                   Traceback (most recent call last)",
      "\u001b[1;32md:\\desktop\\college\\3rd sem\\AI\\assign 3\\assign3.ipynb Cell 25\u001b[0m line \u001b[0;36m1\n\u001b[1;32m----> <a href='vscode-notebook-cell:/d%3A/desktop/college/3rd%20sem/AI/assign%203/assign3.ipynb#X34sZmlsZQ%3D%3D?line=0'>1</a>\u001b[0m nlp \u001b[39m=\u001b[39m spacy\u001b[39m.\u001b[39;49mload(\u001b[39m\"\u001b[39;49m\u001b[39men_core_web_sm\u001b[39;49m\u001b[39m\"\u001b[39;49m)\n",
      "File \u001b[1;32mc:\\Users\\Microsoft\\AppData\\Local\\Programs\\Python\\Python311\\Lib\\site-packages\\spacy\\__init__.py:51\u001b[0m, in \u001b[0;36mload\u001b[1;34m(name, vocab, disable, enable, exclude, config)\u001b[0m\n\u001b[0;32m     27\u001b[0m \u001b[39mdef\u001b[39;00m \u001b[39mload\u001b[39m(\n\u001b[0;32m     28\u001b[0m     name: Union[\u001b[39mstr\u001b[39m, Path],\n\u001b[0;32m     29\u001b[0m     \u001b[39m*\u001b[39m,\n\u001b[1;32m   (...)\u001b[0m\n\u001b[0;32m     34\u001b[0m     config: Union[Dict[\u001b[39mstr\u001b[39m, Any], Config] \u001b[39m=\u001b[39m util\u001b[39m.\u001b[39mSimpleFrozenDict(),\n\u001b[0;32m     35\u001b[0m ) \u001b[39m-\u001b[39m\u001b[39m>\u001b[39m Language:\n\u001b[0;32m     36\u001b[0m \u001b[39m    \u001b[39m\u001b[39m\"\"\"Load a spaCy model from an installed package or a local path.\u001b[39;00m\n\u001b[0;32m     37\u001b[0m \n\u001b[0;32m     38\u001b[0m \u001b[39m    name (str): Package name or model path.\u001b[39;00m\n\u001b[1;32m   (...)\u001b[0m\n\u001b[0;32m     49\u001b[0m \u001b[39m    RETURNS (Language): The loaded nlp object.\u001b[39;00m\n\u001b[0;32m     50\u001b[0m \u001b[39m    \"\"\"\u001b[39;00m\n\u001b[1;32m---> 51\u001b[0m     \u001b[39mreturn\u001b[39;00m util\u001b[39m.\u001b[39;49mload_model(\n\u001b[0;32m     52\u001b[0m         name,\n\u001b[0;32m     53\u001b[0m         vocab\u001b[39m=\u001b[39;49mvocab,\n\u001b[0;32m     54\u001b[0m         disable\u001b[39m=\u001b[39;49mdisable,\n\u001b[0;32m     55\u001b[0m         enable\u001b[39m=\u001b[39;49menable,\n\u001b[0;32m     56\u001b[0m         exclude\u001b[39m=\u001b[39;49mexclude,\n\u001b[0;32m     57\u001b[0m         config\u001b[39m=\u001b[39;49mconfig,\n\u001b[0;32m     58\u001b[0m     )\n",
      "File \u001b[1;32mc:\\Users\\Microsoft\\AppData\\Local\\Programs\\Python\\Python311\\Lib\\site-packages\\spacy\\util.py:472\u001b[0m, in \u001b[0;36mload_model\u001b[1;34m(name, vocab, disable, enable, exclude, config)\u001b[0m\n\u001b[0;32m    470\u001b[0m \u001b[39mif\u001b[39;00m name \u001b[39min\u001b[39;00m OLD_MODEL_SHORTCUTS:\n\u001b[0;32m    471\u001b[0m     \u001b[39mraise\u001b[39;00m \u001b[39mIOError\u001b[39;00m(Errors\u001b[39m.\u001b[39mE941\u001b[39m.\u001b[39mformat(name\u001b[39m=\u001b[39mname, full\u001b[39m=\u001b[39mOLD_MODEL_SHORTCUTS[name]))  \u001b[39m# type: ignore[index]\u001b[39;00m\n\u001b[1;32m--> 472\u001b[0m \u001b[39mraise\u001b[39;00m \u001b[39mIOError\u001b[39;00m(Errors\u001b[39m.\u001b[39mE050\u001b[39m.\u001b[39mformat(name\u001b[39m=\u001b[39mname))\n",
      "\u001b[1;31mOSError\u001b[0m: [E050] Can't find model 'en_core_web_sm'. It doesn't seem to be a Python package or a valid path to a data directory."
     ]
    }
   ],
   "source": [
    "nlp = spacy.load(\"en_core_web_sm\")\n"
   ]
  },
  {
   "cell_type": "code",
   "execution_count": 21,
   "metadata": {},
   "outputs": [
    {
     "name": "stdout",
     "output_type": "stream",
     "text": [
      "\u001b[38;5;2m✔ Download and installation successful\u001b[0m\n",
      "You can now load the package via spacy.load('en_core_web_sm')\n"
     ]
    }
   ],
   "source": [
    "import spacy\n",
    "\n",
    "# Download and install the 'en_core_web_sm' model\n",
    "spacy.cli.download(\"en_core_web_sm\")\n",
    "\n",
    "# Load the spaCy model\n",
    "nlp = spacy.load(\"en_core_web_sm\")\n"
   ]
  },
  {
   "cell_type": "code",
   "execution_count": 22,
   "metadata": {},
   "outputs": [
    {
     "name": "stdout",
     "output_type": "stream",
     "text": [
      "GloVe Vector for the first training sample:\n",
      "[ 1.66477233e-01 -3.17241341e-01  6.73630089e-02  1.48531750e-01\n",
      " -1.09376751e-01 -3.11614394e-01  1.01821765e-01  1.16974249e-01\n",
      "  5.95108829e-02  2.16548219e-01 -1.87735945e-01 -1.27771462e-03\n",
      " -1.16288163e-01  1.96452737e-01 -1.70024946e-01 -4.51310538e-02\n",
      "  1.72439739e-01 -1.07404636e-02 -1.90491620e-02  9.17453095e-02\n",
      "  1.08228236e-01  3.47655505e-01 -1.16071500e-01 -4.21948284e-01\n",
      "  6.69538900e-02 -2.72178262e-01  2.10364684e-01  1.10089391e-01\n",
      "  2.20819876e-01  1.13416560e-01  7.15986341e-02  8.06174129e-02\n",
      "  3.14722568e-01 -2.49378473e-01  7.42536113e-02 -2.88019985e-01\n",
      "  7.71413893e-02 -1.44667223e-01 -4.57973294e-02 -1.26399159e-01\n",
      " -3.36126745e-01  2.92700052e-01 -1.61031559e-02  2.27942586e-01\n",
      "  1.36119172e-01  1.43574357e-01 -1.36727139e-01  1.97218016e-01\n",
      " -3.18521336e-02 -4.02044579e-02 -5.20983279e-01  1.30398870e-01\n",
      " -1.23933479e-01 -9.46280733e-02 -7.38999443e-05  3.51094641e-02\n",
      "  1.25813633e-01  5.04046492e-02 -1.23174852e-02 -1.48387343e-01\n",
      "  1.19895697e-01 -2.40926877e-01  1.23705693e-01 -3.32895726e-01\n",
      "  4.75674644e-02  1.02644190e-01  4.06178921e-01 -1.97748482e-01\n",
      "  2.51880169e-01  1.91159278e-01  9.30683017e-02  1.52635664e-01\n",
      " -1.08981512e-01 -1.14664383e-01 -2.08954155e-01 -1.43874899e-01\n",
      "  2.34824970e-01 -3.96534115e-01  9.23553631e-02 -1.88236773e-01\n",
      " -9.23846960e-02 -3.38133126e-02 -2.41215587e-01 -2.91855156e-01\n",
      "  2.35546846e-02  1.31222576e-01  1.07558444e-01 -9.09205154e-02\n",
      " -4.51178014e-01  3.41915995e-01  2.68114150e-01 -3.00385743e-01\n",
      "  3.98966134e-01  3.86947691e-01 -2.67970800e-01  3.72729301e-02]\n",
      "Validation Accuracy: 0.575\n",
      "Test Accuracy: 0.6425\n"
     ]
    }
   ],
   "source": [
    "# nlp = spacy.load(\"en_core_web_sm\")\n",
    "\n",
    "# Transform each text sequence into the average GloVe vector\n",
    "def text_to_avg_vector(text, nlp):\n",
    "    doc = nlp(text)\n",
    "    vectors = [token.vector for token in doc]\n",
    "    if vectors:\n",
    "        return np.mean(vectors, axis=0)\n",
    "    else:\n",
    "        # If no vector is obtained, return a zero vector\n",
    "        return np.zeros(nlp.vocab.vectors_length)\n",
    "\n",
    "# Create GloVe vectors for training, validation, and test sets\n",
    "x_train_glove = np.array([text_to_avg_vector(text, nlp) for text in x_train])\n",
    "x_val_glove = np.array([text_to_avg_vector(text, nlp) for text in x_val])\n",
    "x_test_glove = np.array([text_to_avg_vector(text, nlp) for text in x_test_text])\n",
    "\n",
    "print(\"GloVe Vector for the first training sample:\")\n",
    "print(x_train_glove[0])\n",
    "\n",
    "# Train a Logistic Regression model (as an example)\n",
    "logistic_reg_model = LogisticRegression(max_iter=10000)\n",
    "logistic_reg_model.fit(x_train_glove, y_train)\n",
    "\n",
    "# Predictions\n",
    "y_val_pred = logistic_reg_model.predict(x_val_glove)\n",
    "y_test_pred = logistic_reg_model.predict(x_test_glove)\n",
    "\n",
    "# Evaluations\n",
    "val_accuracy = accuracy_score(y_val, y_val_pred)\n",
    "test_accuracy = accuracy_score(y_test, y_test_pred)\n",
    "\n",
    "print(\"Validation Accuracy:\", val_accuracy)\n",
    "print(\"Test Accuracy:\", test_accuracy)"
   ]
  },
  {
   "cell_type": "markdown",
   "metadata": {},
   "source": [
    "Lemmatization - NLP"
   ]
  },
  {
   "cell_type": "code",
   "execution_count": 23,
   "metadata": {},
   "outputs": [
    {
     "name": "stdout",
     "output_type": "stream",
     "text": [
      "Original text:\n",
      "\n",
      "Natural language processing (NLP) is a subfield of artificial intelligence that focuses on the interaction between computers and humans using natural language. It involves the development of algorithms and models to understand, interpret, and generate human-like language.\n",
      "NLP tasks include text analysis, sentiment analysis, machine translation, named entity recognition, and more. One common preprocessing step in NLP is lemmatization, where words are reduced to their base or root form.\n",
      "For example, the word \"running\" would be lemmatized to \"run,\" and \"better\" would be lemmatized to \"good.\" Lemmatization helps in standardizing words, reducing vocabulary size, and improving the efficiency of text analysis.\n",
      "SpaCy is a popular library for NLP in Python that provides pre-trained models for lemmatization, part-of-speech tagging, and other tasks.\n",
      "\n",
      "\n",
      "Lemmatized text:\n",
      "\n",
      " natural language processing ( NLP ) be a subfield of artificial intelligence that focus on the interaction between computer and human use natural language . it involve the development of algorithm and model to understand , interpret , and generate human - like language . \n",
      " NLP task include text analysis , sentiment analysis , machine translation , name entity recognition , and more . one common preprocessing step in NLP be lemmatization , where word be reduce to their base or root form . \n",
      " for example , the word \" run \" would be lemmatize to \" run , \" and \" well \" would be lemmatize to \" good . \" lemmatization help in standardize word , reduce vocabulary size , and improve the efficiency of text analysis . \n",
      " SpaCy be a popular library for NLP in Python that provide pre - train model for lemmatization , part - of - speech tagging , and other task . \n",
      "\n"
     ]
    }
   ],
   "source": [
    "def lemmatize_text(text, nlp):\n",
    "    doc = nlp(text)\n",
    "    lemmatized_text = ' '.join([token.lemma_ for token in doc])\n",
    "    return lemmatized_text\n",
    "\n",
    "# Example larger text\n",
    "sample_text = \"\"\"\n",
    "Natural language processing (NLP) is a subfield of artificial intelligence that focuses on the interaction between computers and humans using natural language. It involves the development of algorithms and models to understand, interpret, and generate human-like language.\n",
    "NLP tasks include text analysis, sentiment analysis, machine translation, named entity recognition, and more. One common preprocessing step in NLP is lemmatization, where words are reduced to their base or root form.\n",
    "For example, the word \"running\" would be lemmatized to \"run,\" and \"better\" would be lemmatized to \"good.\" Lemmatization helps in standardizing words, reducing vocabulary size, and improving the efficiency of text analysis.\n",
    "SpaCy is a popular library for NLP in Python that provides pre-trained models for lemmatization, part-of-speech tagging, and other tasks.\n",
    "\"\"\"\n",
    "\n",
    "# Lemmatize the larger text\n",
    "lemmatized_sample_text = lemmatize_text(sample_text, nlp)\n",
    "\n",
    "# Print the lemmatized text\n",
    "print(\"Original text:\")\n",
    "print(sample_text)\n",
    "\n",
    "print(\"\\nLemmatized text:\")\n",
    "print(lemmatized_sample_text)"
   ]
  },
  {
   "cell_type": "markdown",
   "metadata": {},
   "source": [
    "Recurrent NN"
   ]
  },
  {
   "cell_type": "code",
   "execution_count": 24,
   "metadata": {},
   "outputs": [
    {
     "name": "stdout",
     "output_type": "stream",
     "text": [
      "Epoch 1/5\n",
      "63/63 [==============================] - 17s 121ms/step - loss: 0.6693 - accuracy: 0.5960 - val_loss: 0.5925 - val_accuracy: 0.7290\n",
      "Epoch 2/5\n",
      "63/63 [==============================] - 7s 105ms/step - loss: 0.4318 - accuracy: 0.8200 - val_loss: 0.4230 - val_accuracy: 0.8110\n",
      "Epoch 3/5\n",
      "63/63 [==============================] - 7s 105ms/step - loss: 0.2268 - accuracy: 0.9245 - val_loss: 0.4612 - val_accuracy: 0.8110\n",
      "Epoch 4/5\n",
      "63/63 [==============================] - 7s 106ms/step - loss: 0.1195 - accuracy: 0.9668 - val_loss: 0.5012 - val_accuracy: 0.7960\n",
      "Epoch 5/5\n",
      "63/63 [==============================] - 7s 105ms/step - loss: 0.0612 - accuracy: 0.9837 - val_loss: 0.6333 - val_accuracy: 0.7840\n",
      "157/157 [==============================] - 4s 25ms/step - loss: 0.6495 - accuracy: 0.7866\n",
      "Test Accuracy: 78.65999937057495\n"
     ]
    }
   ],
   "source": [
    "(x_train, y_train), (x_test, y_test) = imdb.load_data(num_words=10000)\n",
    "\n",
    "# Limit the dataset for faster execution (you can adjust this based on your resources)\n",
    "num_samples = 5000\n",
    "x_train = x_train[:num_samples]\n",
    "y_train = y_train[:num_samples]\n",
    "x_test = x_test[:num_samples]\n",
    "y_test = y_test[:num_samples]\n",
    "# Pad sequences to have the same length\n",
    "maxlen = 100\n",
    "x_train = pad_sequences(x_train, maxlen=maxlen)\n",
    "x_test = pad_sequences(x_test, maxlen=maxlen)\n",
    "\n",
    "# Define the RNN model\n",
    "model = Sequential()\n",
    "model.add(Embedding(input_dim=10000, output_dim=32, input_length=maxlen))\n",
    "model.add(LSTM(32))\n",
    "model.add(Dense(1, activation='sigmoid'))\n",
    "\n",
    "# Compile the model\n",
    "model.compile(optimizer='adam', loss='binary_crossentropy', metrics=['accuracy'])\n",
    "\n",
    "# Train the RNN model\n",
    "model.fit(x_train, y_train, epochs=5, batch_size=64, validation_split=0.2)\n",
    "\n",
    "# Evaluate the model on the test set\n",
    "test_loss, test_accuracy = model.evaluate(x_test, y_test)\n",
    "print(\"Test Accuracy:\", test_accuracy*100)"
   ]
  }
 ],
 "metadata": {
  "kernelspec": {
   "display_name": "Python 3",
   "language": "python",
   "name": "python3"
  },
  "language_info": {
   "codemirror_mode": {
    "name": "ipython",
    "version": 3
   },
   "file_extension": ".py",
   "mimetype": "text/x-python",
   "name": "python",
   "nbconvert_exporter": "python",
   "pygments_lexer": "ipython3",
   "version": "3.11.0"
  }
 },
 "nbformat": 4,
 "nbformat_minor": 2
}
